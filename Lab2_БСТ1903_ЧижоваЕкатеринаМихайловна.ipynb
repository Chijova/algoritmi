{
 "cells": [
  {
   "cell_type": "markdown",
   "metadata": {},
   "source": [
    "# Лабораторная работа №2\n",
    "## Выполнила студентка группы БСТ1903 Чижова Екатерина Михайловна\n",
    "Реализовать методы поиска в соответствии с заданием. Организовать генерацию\n",
    "начального набора случайных данных. Для всех вариантов добавить реализацию\n",
    "добавления, поиска и удаления элементов. Оценить время работы каждого алгоритма\n",
    "поиска и сравнить его со временем работы стандартной функции поиска, используемой в\n",
    "выбранном языке программирования. \n",
    "### Задание №1\n",
    "Бинарный поиск Бинарное дерево Фибоначчиев Интерполяционный"
   ]
  },
  {
   "cell_type": "code",
   "execution_count": 1,
   "metadata": {},
   "outputs": [],
   "source": [
    "def random_arr(m = 50, min_limit = -250, max_limit = 1020):\n",
    "    import random\n",
    "    return [random.randint(min_limit, max_limit) for _ in range(m)]"
   ]
  },
  {
   "cell_type": "code",
   "execution_count": 2,
   "metadata": {},
   "outputs": [],
   "source": [
    "def BinSearch(arr, x):\n",
    "    i = 0\n",
    "    j = len(arr)-1\n",
    "    while i < j:\n",
    "        m = int((i+j)/2)\n",
    "        if x > arr[m]:\n",
    "            i = m+1\n",
    "        else:\n",
    "            j = m\n",
    "    return j"
   ]
  },
  {
   "cell_type": "code",
   "execution_count": 3,
   "metadata": {},
   "outputs": [
    {
     "name": "stdout",
     "output_type": "stream",
     "text": [
      "[-23, -1, 26, 56, 57, 66, 67, 73, 74, 81, 82, 82, 83, 88, 89]\n",
      "Данного элемента в массиве нет\n",
      "Хотите добавить данный элемент в массив? Введите да или нет \n",
      "нет\n"
     ]
    }
   ],
   "source": [
    "newMatrix = random_arr(15, -25, 100)\n",
    "newMatrix.sort()\n",
    "print (newMatrix)\n",
    "k=10\n",
    "g=BinSearch(newMatrix, k)\n",
    "if newMatrix[g] == k:\n",
    "    print (\"Это элемент под номером \",g)\n",
    "else: print (\"Данного элемента в массиве нет\")\n",
    "print (\"Хотите добавить данный элемент в массив? Введите да или нет \")\n",
    "s=(input())\n",
    "if s == \"да\":\n",
    "    newMatrix.insert(g, k)\n",
    "    print (newMatrix)\n",
    "if newMatrix[g] == k: \n",
    "    print (\"Хотите удалить данный элемент из массива? Введите да или нет \")\n",
    "    s=(input())\n",
    "    if s == \"да\":\n",
    "        newMatrix.pop(g)\n",
    "        print (newMatrix)"
   ]
  },
  {
   "cell_type": "code",
   "execution_count": 71,
   "metadata": {},
   "outputs": [
    {
     "name": "stdout",
     "output_type": "stream",
     "text": [
      "7 Not Found\n",
      "14 is found\n",
      "None\n"
     ]
    }
   ],
   "source": [
    "class Node:\n",
    "\n",
    "    def __init__(self, data):\n",
    "        self.left = None\n",
    "        self.right = None\n",
    "        self.data = data\n",
    "\n",
    "    def insert(self, data):\n",
    "        if self.data:\n",
    "            if data < self.data:\n",
    "                if self.left is None:\n",
    "                    self.left = Node(data)\n",
    "                else:\n",
    "                    self.left.insert(data)\n",
    "            elif data > self.data:\n",
    "                if self.right is None:\n",
    "                    self.right = Node(data)\n",
    "                else:\n",
    "                    self.right.insert(data)\n",
    "        else:\n",
    "            self.data = data\n",
    "\n",
    "    def findval(self, lkpval):\n",
    "        if lkpval < self.data:\n",
    "            if self.left is None:\n",
    "                return str(lkpval)+\" Not Found\"\n",
    "            return self.left.findval(lkpval)\n",
    "        elif lkpval > self.data:\n",
    "            if self.right is None:\n",
    "                return str(lkpval)+\" Not Found\"\n",
    "            return self.right.findval(lkpval)\n",
    "        else:\n",
    "            print(str(self.data) + ' is found')\n",
    "\n",
    "    def PrintTree(self):\n",
    "        if self.left:\n",
    "            self.left.PrintTree()\n",
    "        print( self.data),\n",
    "        if self.right:\n",
    "            self.right.PrintTree()\n",
    "\n",
    "\n",
    "root = Node(12)\n",
    "root.insert(6)\n",
    "root.insert(14)\n",
    "root.insert(3)\n",
    "print(root.findval(7))\n",
    "print(root.findval(14))"
   ]
  },
  {
   "cell_type": "code",
   "execution_count": 11,
   "metadata": {},
   "outputs": [],
   "source": [
    "def fibMonaccianSearch(arr, x, n):\n",
    "    fibMMm2 = 0 # (м-2) -ый номер Фибоначчи\n",
    "    fibMMm1 = 1  \n",
    "    fibM = fibMMm2 + fibMMm1 # m'th Фибоначчи\n",
    "    while (fibM < n):\n",
    "        fibMMm2 = fibMMm1\n",
    "        fibMMm1 = fibM\n",
    "        fibM = fibMMm2 + fibMMm1\n",
    "    offset = -1;\n",
    "    while (fibM > 1):\n",
    "        i = min(offset+fibMMm2, n-1)\n",
    "        if (arr[i] < x):\n",
    "            fibM = fibMMm1\n",
    "            fibMMm1 = fibMMm2\n",
    "            fibMMm2 = fibM - fibMMm1\n",
    "            offset = i\n",
    "        elif (arr[i] > x):\n",
    "            fibM = fibMMm2\n",
    "            fibMMm1 = fibMMm1 - fibMMm2\n",
    "            fibMMm2 = fibM - fibMMm1\n",
    "        else :\n",
    "            return i\n",
    "    if(fibMMm1 and arr[offset+1] == x):\n",
    "        return offset+1;\n",
    "    return offset+1\n"
   ]
  },
  {
   "cell_type": "code",
   "execution_count": 16,
   "metadata": {},
   "outputs": [
    {
     "name": "stdout",
     "output_type": "stream",
     "text": [
      "[-12, -9, 1, 6, 21, 30, 31, 32, 53, 64, 65, 68, 74, 77, 80]\n",
      "Данного элемента в массиве нет\n",
      "Хотите добавить данный элемент в массив? Введите да или нет \n",
      "да\n",
      "[-12, -9, 1, 3, 6, 21, 30, 31, 32, 53, 64, 65, 68, 74, 77, 80]\n",
      "Хотите удалить данный элемент из массива? Введите да или нет \n",
      "нет\n"
     ]
    }
   ],
   "source": [
    "newMatrix = random_arr(15, -25, 100)\n",
    "newMatrix.sort()\n",
    "print (newMatrix)\n",
    "k=3\n",
    "n=len(newMatrix)\n",
    "g=fibMonaccianSearch(newMatrix, k, n)\n",
    "if newMatrix[g] == k:\n",
    "    print (\"Это элемент под номером \",g)\n",
    "else: print (\"Данного элемента в массиве нет\")\n",
    "print (\"Хотите добавить данный элемент в массив? Введите да или нет \")\n",
    "s=(input())\n",
    "if s == \"да\":\n",
    "    newMatrix.insert(g, k)\n",
    "    print (newMatrix)\n",
    "if newMatrix[g] == k: \n",
    "    print (\"Хотите удалить данный элемент из массива? Введите да или нет \")\n",
    "    s=(input())\n",
    "    if s == \"да\":\n",
    "        newMatrix.pop(g)\n",
    "        print (newMatrix)"
   ]
  },
  {
   "cell_type": "code",
   "execution_count": 9,
   "metadata": {},
   "outputs": [],
   "source": [
    "def interpolation(a, k) : \n",
    "    left = 0  \n",
    "    right = len(a) - 1  \n",
    "    while a[left] < k and k < a[right]:\n",
    "        mid = int(left + (k - a[left]) * (right - left) / (a[right] - a[left]))  \n",
    "        if a[mid] < k:\n",
    "            left = mid + 1\n",
    "        elif a[mid] > k:\n",
    "            right = mid - 1\n",
    "        else:\n",
    "            return mid\n",
    "\n",
    "    if a[left] == k:\n",
    "        return left\n",
    "    elif a[right] == k:\n",
    "        return right\n",
    "    else:\n",
    "        return left"
   ]
  },
  {
   "cell_type": "code",
   "execution_count": 21,
   "metadata": {},
   "outputs": [
    {
     "name": "stdout",
     "output_type": "stream",
     "text": [
      "[-13, -8, -7, -5, 1, 6, 32, 43, 56, 60, 61, 69, 69, 87, 91]\n",
      "Данного элемента в массиве нет\n",
      "Хотите добавить данный элемент в массив? Введите да или нет \n",
      "да\n",
      "[-13, -8, -7, -5, 1, 3, 6, 32, 43, 56, 60, 61, 69, 69, 87, 91]\n",
      "Хотите удалить данный элемент из массива? Введите да или нет \n",
      "да\n",
      "[-13, -8, -7, -5, 1, 6, 32, 43, 56, 60, 61, 69, 69, 87, 91]\n"
     ]
    }
   ],
   "source": [
    "newMatrix = random_arr(15, -25, 100)\n",
    "newMatrix.sort()\n",
    "print (newMatrix)\n",
    "k=3\n",
    "g=interpolation(newMatrix, k)\n",
    "if newMatrix[g] == k:\n",
    "    print (\"Это элемент под номером \",g)\n",
    "else: print (\"Данного элемента в массиве нет\")\n",
    "print (\"Хотите добавить данный элемент в массив? Введите да или нет \")\n",
    "s=(input())\n",
    "if s == \"да\":\n",
    "    newMatrix.insert(g, k)\n",
    "    print (newMatrix)\n",
    "if newMatrix[g] == k: \n",
    "    print (\"Хотите удалить данный элемент из массива? Введите да или нет \")\n",
    "    s=(input())\n",
    "    if s == \"да\":\n",
    "        newMatrix.pop(g)\n",
    "        print (newMatrix)"
   ]
  },
  {
   "cell_type": "markdown",
   "metadata": {},
   "source": [
    "### Задание №2\n",
    "Простое рехэширование\n",
    "Рехэширование с помощью псевдослучайных чисел\n",
    "Метод цепочек"
   ]
  },
  {
   "cell_type": "code",
   "execution_count": 3,
   "metadata": {},
   "outputs": [],
   "source": [
    "def Fhash (a, id):\n",
    "    n=256\n",
    "    i=0\n",
    "    hash = (ord(id[0])+ord(id[len(id)//2])+ord(id[len(id)-1])+i)//n\n",
    "    if a[hash] == None:\n",
    "        a[hash]=id\n",
    "    else:\n",
    "        k=hash\n",
    "        i=i+1\n",
    "        while (a[hash]!=None) and (hash !=255):\n",
    "            hash = (ord(id[0])+ord(id[len(id)//2])+ord(id[len(id)-1])+i)//n\n",
    "            i=i+1\n",
    "        if a[hash] == None:\n",
    "            a[hash]=id\n",
    "        else:\n",
    "            hash = i//n\n",
    "            while (a[hash]!=None) or (hash !=k):\n",
    "                hash = i//n\n",
    "                i=i+1\n",
    "            if a[hash] == None:\n",
    "                a[hash]=id\n",
    "            else:\n",
    "                print (\"There are no places in the table\")\n",
    "    return a\n"
   ]
  },
  {
   "cell_type": "code",
   "execution_count": 10,
   "metadata": {},
   "outputs": [],
   "source": [
    "def Fhashsearch (a, id):\n",
    "    n=256\n",
    "    i=0\n",
    "    hash = (ord(id[0])+ord(id[len(id)//2])+ord(id[len(id)-1])+i)//n\n",
    "    if a[hash] == id:\n",
    "        return hash\n",
    "    else:\n",
    "        k=hash\n",
    "        i=i+1\n",
    "        while (a[hash]!=id) and (hash !=255):\n",
    "            hash = (ord(id[0])+ord(id[len(id)//2])+ord(id[len(id)-1])+i)//n\n",
    "            i=i+1\n",
    "    if a[hash] == id:\n",
    "        return hash\n",
    "    else:\n",
    "        hash = i//n\n",
    "        while (a[hash]!=id) and (hash <250):\n",
    "            hash = i//n\n",
    "            i=i+1\n",
    "        if a[hash] == id:\n",
    "            return hash\n",
    "        else:\n",
    "            print (\"Идентификатор не найден\")\n",
    "    "
   ]
  },
  {
   "cell_type": "code",
   "execution_count": 11,
   "metadata": {},
   "outputs": [
    {
     "name": "stdout",
     "output_type": "stream",
     "text": [
      "Хотите добавить новый идентификатор в таблицу? Введите да или нет \n",
      "нет\n",
      "[None, None, None, None, None, None, None, None, None, None, None, None, None, None, None, None, None, None, None, None, None, None, None, None, None, None, None, None, None, None, None, None, None, None, None, None, None, None, None, None, None, None, None, None, None, None, None, None, None, None, None, None, None, None, None, None, None, None, None, None, None, None, None, None, None, None, None, None, None, None, None, None, None, None, None, None, None, None, None, None, None, None, None, None, None, None, None, None, None, None, None, None, None, None, None, None, None, None, None, None, None, None, None, None, None, None, None, None, None, None, None, None, None, None, None, None, None, None, None, None, None, None, None, None, None, None, None, None, None, None, None, None, None, None, None, None, None, None, None, None, None, None, None, None, None, None, None, None, None, None, None, None, None, None, None, None, None, None, None, None, None, None, None, None, None, None, None, None, None, None, None, None, None, None, None, None, None, None, None, None, None, None, None, None, None, None, None, None, None, None, None, None, None, None, None, None, None, None, None, None, None, None, None, None, None, None, None, None, None, None, None, None, None, None, None, None, None, None, None, None, None, None, None, None, None, None, None, None, None, None, None, None, None, None, None, None, None, None, None, None, None, None, None, None, None, None, None, None, None, None, None, None, None, None, None, None]\n",
      "Хотите найти идентификатор в таблице? Введите да или нет \n",
      "да\n",
      "да\n",
      "Идентификатор не найден\n",
      "[None, None, None, None, None, None, None, None, None, None, None, None, None, None, None, None, None, None, None, None, None, None, None, None, None, None, None, None, None, None, None, None, None, None, None, None, None, None, None, None, None, None, None, None, None, None, None, None, None, None, None, None, None, None, None, None, None, None, None, None, None, None, None, None, None, None, None, None, None, None, None, None, None, None, None, None, None, None, None, None, None, None, None, None, None, None, None, None, None, None, None, None, None, None, None, None, None, None, None, None, None, None, None, None, None, None, None, None, None, None, None, None, None, None, None, None, None, None, None, None, None, None, None, None, None, None, None, None, None, None, None, None, None, None, None, None, None, None, None, None, None, None, None, None, None, None, None, None, None, None, None, None, None, None, None, None, None, None, None, None, None, None, None, None, None, None, None, None, None, None, None, None, None, None, None, None, None, None, None, None, None, None, None, None, None, None, None, None, None, None, None, None, None, None, None, None, None, None, None, None, None, None, None, None, None, None, None, None, None, None, None, None, None, None, None, None, None, None, None, None, None, None, None, None, None, None, None, None, None, None, None, None, None, None, None, None, None, None, None, None, None, None, None, None, None, None, None, None, None, None, None, None, None, None, None, None]\n",
      "Хотите найти идентификатор в таблице? Введите да или нет \n"
     ]
    },
    {
     "ename": "KeyboardInterrupt",
     "evalue": "Interrupted by user",
     "output_type": "error",
     "traceback": [
      "\u001b[1;31m---------------------------------------------------------------------------\u001b[0m",
      "\u001b[1;31mKeyboardInterrupt\u001b[0m                         Traceback (most recent call last)",
      "\u001b[1;32m<ipython-input-11-c53064ee5168>\u001b[0m in \u001b[0;36m<module>\u001b[1;34m\u001b[0m\n\u001b[0;32m     17\u001b[0m         \u001b[0mprint\u001b[0m \u001b[1;33m(\u001b[0m\u001b[0mhash\u001b[0m\u001b[1;33m)\u001b[0m\u001b[1;33m\u001b[0m\u001b[1;33m\u001b[0m\u001b[0m\n\u001b[0;32m     18\u001b[0m         \u001b[0mprint\u001b[0m \u001b[1;33m(\u001b[0m\u001b[1;34m\"Хотите найти идентификатор в таблице? Введите да или нет \"\u001b[0m\u001b[1;33m)\u001b[0m\u001b[1;33m\u001b[0m\u001b[1;33m\u001b[0m\u001b[0m\n\u001b[1;32m---> 19\u001b[1;33m         \u001b[0mk\u001b[0m\u001b[1;33m=\u001b[0m\u001b[1;33m(\u001b[0m\u001b[0minput\u001b[0m\u001b[1;33m(\u001b[0m\u001b[1;33m)\u001b[0m\u001b[1;33m)\u001b[0m\u001b[1;33m\u001b[0m\u001b[1;33m\u001b[0m\u001b[0m\n\u001b[0m\u001b[0;32m     20\u001b[0m     \u001b[1;32mif\u001b[0m \u001b[0mhash\u001b[0m\u001b[1;33m!=\u001b[0m \u001b[1;32mNone\u001b[0m\u001b[1;33m:\u001b[0m\u001b[1;33m\u001b[0m\u001b[1;33m\u001b[0m\u001b[0m\n\u001b[0;32m     21\u001b[0m         \u001b[0mprint\u001b[0m \u001b[1;33m(\u001b[0m\u001b[1;34m\"Хотите удалить идентификатор из таблицы? Введите да или нет \"\u001b[0m\u001b[1;33m)\u001b[0m\u001b[1;33m\u001b[0m\u001b[1;33m\u001b[0m\u001b[0m\n",
      "\u001b[1;32m~\\anaconda3\\lib\\site-packages\\ipykernel\\kernelbase.py\u001b[0m in \u001b[0;36mraw_input\u001b[1;34m(self, prompt)\u001b[0m\n\u001b[0;32m    858\u001b[0m                 \u001b[1;34m\"raw_input was called, but this frontend does not support input requests.\"\u001b[0m\u001b[1;33m\u001b[0m\u001b[1;33m\u001b[0m\u001b[0m\n\u001b[0;32m    859\u001b[0m             )\n\u001b[1;32m--> 860\u001b[1;33m         return self._input_request(str(prompt),\n\u001b[0m\u001b[0;32m    861\u001b[0m             \u001b[0mself\u001b[0m\u001b[1;33m.\u001b[0m\u001b[0m_parent_ident\u001b[0m\u001b[1;33m,\u001b[0m\u001b[1;33m\u001b[0m\u001b[1;33m\u001b[0m\u001b[0m\n\u001b[0;32m    862\u001b[0m             \u001b[0mself\u001b[0m\u001b[1;33m.\u001b[0m\u001b[0m_parent_header\u001b[0m\u001b[1;33m,\u001b[0m\u001b[1;33m\u001b[0m\u001b[1;33m\u001b[0m\u001b[0m\n",
      "\u001b[1;32m~\\anaconda3\\lib\\site-packages\\ipykernel\\kernelbase.py\u001b[0m in \u001b[0;36m_input_request\u001b[1;34m(self, prompt, ident, parent, password)\u001b[0m\n\u001b[0;32m    902\u001b[0m             \u001b[1;32mexcept\u001b[0m \u001b[0mKeyboardInterrupt\u001b[0m\u001b[1;33m:\u001b[0m\u001b[1;33m\u001b[0m\u001b[1;33m\u001b[0m\u001b[0m\n\u001b[0;32m    903\u001b[0m                 \u001b[1;31m# re-raise KeyboardInterrupt, to truncate traceback\u001b[0m\u001b[1;33m\u001b[0m\u001b[1;33m\u001b[0m\u001b[1;33m\u001b[0m\u001b[0m\n\u001b[1;32m--> 904\u001b[1;33m                 \u001b[1;32mraise\u001b[0m \u001b[0mKeyboardInterrupt\u001b[0m\u001b[1;33m(\u001b[0m\u001b[1;34m\"Interrupted by user\"\u001b[0m\u001b[1;33m)\u001b[0m \u001b[1;32mfrom\u001b[0m \u001b[1;32mNone\u001b[0m\u001b[1;33m\u001b[0m\u001b[1;33m\u001b[0m\u001b[0m\n\u001b[0m\u001b[0;32m    905\u001b[0m             \u001b[1;32mexcept\u001b[0m \u001b[0mException\u001b[0m \u001b[1;32mas\u001b[0m \u001b[0me\u001b[0m\u001b[1;33m:\u001b[0m\u001b[1;33m\u001b[0m\u001b[1;33m\u001b[0m\u001b[0m\n\u001b[0;32m    906\u001b[0m                 \u001b[0mself\u001b[0m\u001b[1;33m.\u001b[0m\u001b[0mlog\u001b[0m\u001b[1;33m.\u001b[0m\u001b[0mwarning\u001b[0m\u001b[1;33m(\u001b[0m\u001b[1;34m\"Invalid Message:\"\u001b[0m\u001b[1;33m,\u001b[0m \u001b[0mexc_info\u001b[0m\u001b[1;33m=\u001b[0m\u001b[1;32mTrue\u001b[0m\u001b[1;33m)\u001b[0m\u001b[1;33m\u001b[0m\u001b[1;33m\u001b[0m\u001b[0m\n",
      "\u001b[1;31mKeyboardInterrupt\u001b[0m: Interrupted by user"
     ]
    }
   ],
   "source": [
    "a=[None]*256\n",
    "print (\"Хотите добавить новый идентификатор в таблицу? Введите да или нет \")\n",
    "s=(input())\n",
    "if s == \"да\":\n",
    "    while s ==\"да\":\n",
    "        id=(input())\n",
    "        Fhash (a, id)\n",
    "        print (\"Хотите добавить новый идентификатор в таблицу? Введите да или нет \")\n",
    "        s=(input())\n",
    "print (a)\n",
    "print (\"Хотите найти идентификатор в таблице? Введите да или нет \")\n",
    "k=(input())\n",
    "if k == \"да\":\n",
    "    while k ==\"да\":\n",
    "        id=(input())\n",
    "        hash =Fhashsearch (a, id)\n",
    "        print (hash)\n",
    "        print (\"Хотите найти идентификатор в таблице? Введите да или нет \")\n",
    "        k=(input())\n",
    "    if hash!= None:\n",
    "        print (\"Хотите удалить идентификатор из таблицы? Введите да или нет \")\n",
    "        k=(input())\n",
    "        if k == \"да\":\n",
    "            a[hash]=None\n",
    "            print (a)\n"
   ]
  },
  {
   "cell_type": "code",
   "execution_count": 21,
   "metadata": {},
   "outputs": [],
   "source": [
    "def Fhash2 (a, id, i):\n",
    "    import random\n",
    "    i=i+1\n",
    "    if i<255:\n",
    "        n=256\n",
    "        hash = (ord(id[0])+ord(id[len(id)//2])+ord(id[len(id)-1])+random.randint(0, 1500))//n\n",
    "        if a[hash] == None:\n",
    "            a[hash]=id\n",
    "        else:\n",
    "            k=hash\n",
    "            while (a[hash]!=None):\n",
    "                hash = (ord(id[0])+ord(id[len(id)//2])+ord(id[len(id)-1])+random.randint(0, 1500))//n\n",
    "\n",
    "    else:\n",
    "        print (\"There are no places in the table\")\n",
    "    return a"
   ]
  },
  {
   "cell_type": "code",
   "execution_count": 24,
   "metadata": {},
   "outputs": [],
   "source": [
    "def Fhashsearch2(a, id):\n",
    "    i=0\n",
    "    while i<255 and a[i]!=id:\n",
    "        i=i+1\n",
    "    if a[i]==id:\n",
    "        return i\n",
    "    else:\n",
    "         print (\"Идентификатор не найден\")   "
   ]
  },
  {
   "cell_type": "code",
   "execution_count": 25,
   "metadata": {},
   "outputs": [
    {
     "name": "stdout",
     "output_type": "stream",
     "text": [
      "Хотите добавить новый идентификатор в таблицу? Введите да или нет \n",
      "нет\n",
      "[None, None, None, None, None, None, None, None, None, None, None, None, None, None, None, None, None, None, None, None, None, None, None, None, None, None, None, None, None, None, None, None, None, None, None, None, None, None, None, None, None, None, None, None, None, None, None, None, None, None, None, None, None, None, None, None, None, None, None, None, None, None, None, None, None, None, None, None, None, None, None, None, None, None, None, None, None, None, None, None, None, None, None, None, None, None, None, None, None, None, None, None, None, None, None, None, None, None, None, None, None, None, None, None, None, None, None, None, None, None, None, None, None, None, None, None, None, None, None, None, None, None, None, None, None, None, None, None, None, None, None, None, None, None, None, None, None, None, None, None, None, None, None, None, None, None, None, None, None, None, None, None, None, None, None, None, None, None, None, None, None, None, None, None, None, None, None, None, None, None, None, None, None, None, None, None, None, None, None, None, None, None, None, None, None, None, None, None, None, None, None, None, None, None, None, None, None, None, None, None, None, None, None, None, None, None, None, None, None, None, None, None, None, None, None, None, None, None, None, None, None, None, None, None, None, None, None, None, None, None, None, None, None, None, None, None, None, None, None, None, None, None, None, None, None, None, None, None, None, None, None, None, None, None, None, None]\n",
      "Хотите найти идентификатор в таблице? Введите да или нет \n",
      "да\n",
      "да\n",
      "Идентификатор не найден\n",
      "None\n",
      "Хотите найти идентификатор в таблице? Введите да или нет \n",
      "нет\n"
     ]
    }
   ],
   "source": [
    "a=[None]*256\n",
    "i=0\n",
    "print (\"Хотите добавить новый идентификатор в таблицу? Введите да или нет \")\n",
    "s=(input())\n",
    "if s == \"да\":\n",
    "    while s ==\"да\":\n",
    "        id=(input())\n",
    "        Fhash2 (a, id, i)\n",
    "        print (\"Хотите добавить новый идентификатор в таблицу? Введите да или нет \")\n",
    "        s=(input())\n",
    "print (a)\n",
    "print (\"Хотите найти идентификатор в таблице? Введите да или нет \")\n",
    "k=(input())\n",
    "if k == \"да\":\n",
    "    while k ==\"да\":\n",
    "        id=(input())\n",
    "        hash =Fhashsearch2 (a, id)\n",
    "        print (hash)\n",
    "        print (\"Хотите найти идентификатор в таблице? Введите да или нет \")\n",
    "        k=(input())\n",
    "    if hash!= None:\n",
    "        print (\"Хотите удалить идентификатор из таблицы? Введите да или нет \")\n",
    "        k=(input())\n",
    "        if k == \"да\":\n",
    "            a[hash]=None\n",
    "            print (a)\n"
   ]
  },
  {
   "cell_type": "code",
   "execution_count": 21,
   "metadata": {},
   "outputs": [],
   "source": [
    "def Chainmethod (arr, id):\n",
    "    h=0\n",
    "    for i in range (0, len(id)):\n",
    "        h=ord(id[i])+h\n",
    "    key=h%10\n",
    "    arr[key].append(id)\n",
    "    return key"
   ]
  },
  {
   "cell_type": "code",
   "execution_count": 61,
   "metadata": {},
   "outputs": [],
   "source": [
    "def ChainmethodSearch (a, id):\n",
    "    h=0\n",
    "    for i in range (0, len(id)):\n",
    "        h=ord(id[i])+h\n",
    "    key=h%10\n",
    "    k=0\n",
    "    for i in range (len(a[key])):\n",
    "        if a[key][i]==id:\n",
    "            print(\"Строка \", key, \"Элемент \", i)\n",
    "            k=1\n",
    "    if k==0:\n",
    "        print(\"Идентификатор не найден\")\n",
    "        return (1)\n",
    "\n",
    "def ChainmethodDeletions (a, id):\n",
    "    h=0\n",
    "    for i in range (0, len(id)):\n",
    "        h=ord(id[i])+h\n",
    "    key=h%10\n",
    "    for i in range (len(a[key])):\n",
    "        if a[key][i]==id:\n",
    "            del(a[key][i])\n",
    "    return (key)\n"
   ]
  },
  {
   "cell_type": "code",
   "execution_count": 62,
   "metadata": {},
   "outputs": [
    {
     "name": "stdout",
     "output_type": "stream",
     "text": [
      "Хотите добавить новый идентификатор в таблицу? Введите да или нет \n",
      "нет\n",
      "[[], [], [], [], [], [], [], [], [], []]\n",
      "Хотите найти идентификатор в таблице? Введите да или нет \n",
      "нет\n"
     ]
    }
   ],
   "source": [
    "key=[[]*1 for i in range (10)]\n",
    "print (\"Хотите добавить новый идентификатор в таблицу? Введите да или нет \")\n",
    "s=(input())\n",
    "if s == \"да\":\n",
    "    while s ==\"да\":\n",
    "        id=(input())\n",
    "        x=Chainmethod (key, id)\n",
    "        print (\"Хотите добавить новый идентификатор в таблицу? Введите да или нет \")\n",
    "        s=(input())\n",
    "print (key)\n",
    "\n",
    "print (\"Хотите найти идентификатор в таблице? Введите да или нет \")\n",
    "k=(input())\n",
    "if k == \"да\":\n",
    "    while k ==\"да\":\n",
    "        id=(input())\n",
    "        hash =ChainmethodSearch (key, id)\n",
    "        print (\"Хотите найти идентификатор в таблице? Введите да или нет \")\n",
    "        k=(input())\n",
    "    if hash!= 1:\n",
    "        print (\"Хотите удалить идентификатор из таблицы? Введите да или нет \")\n",
    "        k=(input())\n",
    "        if k == \"да\":\n",
    "            hash =ChainmethodDeletions (key, id)\n",
    "            print (key)"
   ]
  },
  {
   "cell_type": "code",
   "execution_count": null,
   "metadata": {},
   "outputs": [],
   "source": [
    "def chessboard(data):\n",
    "    row = lambda i: ''.join([\n",
    "        tag('<span style=\"font-size:24px\">♛</span>' * v,\n",
    "            color='white' if (i+j+1)%2 else 'darkgray')\n",
    "        for j, v in enumerate(data[i])])\n",
    "    tb = ''.join([f'<tr>{tag(8-i)}{row(i)}{tag(8-i)}</tr>' for i in range(len(data))])\n",
    "    return HTML(f'<table>{th}{tb}{th}</table>')"
   ]
  },
  {
   "cell_type": "code",
   "execution_count": 41,
   "metadata": {},
   "outputs": [],
   "source": [
    "from IPython.display import HTML, display\n",
    "import random\n",
    "import time\n",
    "def tag(x, color='white'):\n",
    "    return f'<td style=\"width:24px;height:24px;text-align:center;\" bgcolor=\"{color}\">{x}</td>'\n",
    "th = ''.join(map(tag, ' abcdefgh '))"
   ]
  },
  {
   "cell_type": "code",
   "execution_count": 42,
   "metadata": {},
   "outputs": [
    {
     "data": {
      "text/html": [
       "<table><td style=\"width:24px;height:24px;text-align:center;\" bgcolor=\"white\"> </td><td style=\"width:24px;height:24px;text-align:center;\" bgcolor=\"white\">a</td><td style=\"width:24px;height:24px;text-align:center;\" bgcolor=\"white\">b</td><td style=\"width:24px;height:24px;text-align:center;\" bgcolor=\"white\">c</td><td style=\"width:24px;height:24px;text-align:center;\" bgcolor=\"white\">d</td><td style=\"width:24px;height:24px;text-align:center;\" bgcolor=\"white\">e</td><td style=\"width:24px;height:24px;text-align:center;\" bgcolor=\"white\">f</td><td style=\"width:24px;height:24px;text-align:center;\" bgcolor=\"white\">g</td><td style=\"width:24px;height:24px;text-align:center;\" bgcolor=\"white\">h</td><td style=\"width:24px;height:24px;text-align:center;\" bgcolor=\"white\"> </td><tr><td style=\"width:24px;height:24px;text-align:center;\" bgcolor=\"white\">8</td><td style=\"width:24px;height:24px;text-align:center;\" bgcolor=\"white\"><span style=\"font-size:24px\">♛</span></td><td style=\"width:24px;height:24px;text-align:center;\" bgcolor=\"darkgray\"></td><td style=\"width:24px;height:24px;text-align:center;\" bgcolor=\"white\"></td><td style=\"width:24px;height:24px;text-align:center;\" bgcolor=\"darkgray\"></td><td style=\"width:24px;height:24px;text-align:center;\" bgcolor=\"white\"></td><td style=\"width:24px;height:24px;text-align:center;\" bgcolor=\"darkgray\"></td><td style=\"width:24px;height:24px;text-align:center;\" bgcolor=\"white\"></td><td style=\"width:24px;height:24px;text-align:center;\" bgcolor=\"darkgray\"></td><td style=\"width:24px;height:24px;text-align:center;\" bgcolor=\"white\">8</td></tr><tr><td style=\"width:24px;height:24px;text-align:center;\" bgcolor=\"white\">7</td><td style=\"width:24px;height:24px;text-align:center;\" bgcolor=\"darkgray\"></td><td style=\"width:24px;height:24px;text-align:center;\" bgcolor=\"white\"></td><td style=\"width:24px;height:24px;text-align:center;\" bgcolor=\"darkgray\"></td><td style=\"width:24px;height:24px;text-align:center;\" bgcolor=\"white\"></td><td style=\"width:24px;height:24px;text-align:center;\" bgcolor=\"darkgray\"><span style=\"font-size:24px\">♛</span></td><td style=\"width:24px;height:24px;text-align:center;\" bgcolor=\"white\"></td><td style=\"width:24px;height:24px;text-align:center;\" bgcolor=\"darkgray\"></td><td style=\"width:24px;height:24px;text-align:center;\" bgcolor=\"white\"></td><td style=\"width:24px;height:24px;text-align:center;\" bgcolor=\"white\">7</td></tr><tr><td style=\"width:24px;height:24px;text-align:center;\" bgcolor=\"white\">6</td><td style=\"width:24px;height:24px;text-align:center;\" bgcolor=\"white\"></td><td style=\"width:24px;height:24px;text-align:center;\" bgcolor=\"darkgray\"></td><td style=\"width:24px;height:24px;text-align:center;\" bgcolor=\"white\"></td><td style=\"width:24px;height:24px;text-align:center;\" bgcolor=\"darkgray\"></td><td style=\"width:24px;height:24px;text-align:center;\" bgcolor=\"white\"></td><td style=\"width:24px;height:24px;text-align:center;\" bgcolor=\"darkgray\"></td><td style=\"width:24px;height:24px;text-align:center;\" bgcolor=\"white\"></td><td style=\"width:24px;height:24px;text-align:center;\" bgcolor=\"darkgray\"><span style=\"font-size:24px\">♛</span></td><td style=\"width:24px;height:24px;text-align:center;\" bgcolor=\"white\">6</td></tr><tr><td style=\"width:24px;height:24px;text-align:center;\" bgcolor=\"white\">5</td><td style=\"width:24px;height:24px;text-align:center;\" bgcolor=\"darkgray\"></td><td style=\"width:24px;height:24px;text-align:center;\" bgcolor=\"white\"></td><td style=\"width:24px;height:24px;text-align:center;\" bgcolor=\"darkgray\"></td><td style=\"width:24px;height:24px;text-align:center;\" bgcolor=\"white\"></td><td style=\"width:24px;height:24px;text-align:center;\" bgcolor=\"darkgray\"></td><td style=\"width:24px;height:24px;text-align:center;\" bgcolor=\"white\"><span style=\"font-size:24px\">♛</span></td><td style=\"width:24px;height:24px;text-align:center;\" bgcolor=\"darkgray\"></td><td style=\"width:24px;height:24px;text-align:center;\" bgcolor=\"white\"></td><td style=\"width:24px;height:24px;text-align:center;\" bgcolor=\"white\">5</td></tr><tr><td style=\"width:24px;height:24px;text-align:center;\" bgcolor=\"white\">4</td><td style=\"width:24px;height:24px;text-align:center;\" bgcolor=\"white\"></td><td style=\"width:24px;height:24px;text-align:center;\" bgcolor=\"darkgray\"></td><td style=\"width:24px;height:24px;text-align:center;\" bgcolor=\"white\"><span style=\"font-size:24px\">♛</span></td><td style=\"width:24px;height:24px;text-align:center;\" bgcolor=\"darkgray\"></td><td style=\"width:24px;height:24px;text-align:center;\" bgcolor=\"white\"></td><td style=\"width:24px;height:24px;text-align:center;\" bgcolor=\"darkgray\"></td><td style=\"width:24px;height:24px;text-align:center;\" bgcolor=\"white\"></td><td style=\"width:24px;height:24px;text-align:center;\" bgcolor=\"darkgray\"></td><td style=\"width:24px;height:24px;text-align:center;\" bgcolor=\"white\">4</td></tr><tr><td style=\"width:24px;height:24px;text-align:center;\" bgcolor=\"white\">3</td><td style=\"width:24px;height:24px;text-align:center;\" bgcolor=\"darkgray\"></td><td style=\"width:24px;height:24px;text-align:center;\" bgcolor=\"white\"></td><td style=\"width:24px;height:24px;text-align:center;\" bgcolor=\"darkgray\"></td><td style=\"width:24px;height:24px;text-align:center;\" bgcolor=\"white\"></td><td style=\"width:24px;height:24px;text-align:center;\" bgcolor=\"darkgray\"></td><td style=\"width:24px;height:24px;text-align:center;\" bgcolor=\"white\"></td><td style=\"width:24px;height:24px;text-align:center;\" bgcolor=\"darkgray\"><span style=\"font-size:24px\">♛</span></td><td style=\"width:24px;height:24px;text-align:center;\" bgcolor=\"white\"></td><td style=\"width:24px;height:24px;text-align:center;\" bgcolor=\"white\">3</td></tr><tr><td style=\"width:24px;height:24px;text-align:center;\" bgcolor=\"white\">2</td><td style=\"width:24px;height:24px;text-align:center;\" bgcolor=\"white\"></td><td style=\"width:24px;height:24px;text-align:center;\" bgcolor=\"darkgray\"><span style=\"font-size:24px\">♛</span></td><td style=\"width:24px;height:24px;text-align:center;\" bgcolor=\"white\"></td><td style=\"width:24px;height:24px;text-align:center;\" bgcolor=\"darkgray\"></td><td style=\"width:24px;height:24px;text-align:center;\" bgcolor=\"white\"></td><td style=\"width:24px;height:24px;text-align:center;\" bgcolor=\"darkgray\"></td><td style=\"width:24px;height:24px;text-align:center;\" bgcolor=\"white\"></td><td style=\"width:24px;height:24px;text-align:center;\" bgcolor=\"darkgray\"></td><td style=\"width:24px;height:24px;text-align:center;\" bgcolor=\"white\">2</td></tr><tr><td style=\"width:24px;height:24px;text-align:center;\" bgcolor=\"white\">1</td><td style=\"width:24px;height:24px;text-align:center;\" bgcolor=\"darkgray\"></td><td style=\"width:24px;height:24px;text-align:center;\" bgcolor=\"white\"></td><td style=\"width:24px;height:24px;text-align:center;\" bgcolor=\"darkgray\"></td><td style=\"width:24px;height:24px;text-align:center;\" bgcolor=\"white\"><span style=\"font-size:24px\">♛</span></td><td style=\"width:24px;height:24px;text-align:center;\" bgcolor=\"darkgray\"></td><td style=\"width:24px;height:24px;text-align:center;\" bgcolor=\"white\"></td><td style=\"width:24px;height:24px;text-align:center;\" bgcolor=\"darkgray\"></td><td style=\"width:24px;height:24px;text-align:center;\" bgcolor=\"white\"></td><td style=\"width:24px;height:24px;text-align:center;\" bgcolor=\"white\">1</td></tr><td style=\"width:24px;height:24px;text-align:center;\" bgcolor=\"white\"> </td><td style=\"width:24px;height:24px;text-align:center;\" bgcolor=\"white\">a</td><td style=\"width:24px;height:24px;text-align:center;\" bgcolor=\"white\">b</td><td style=\"width:24px;height:24px;text-align:center;\" bgcolor=\"white\">c</td><td style=\"width:24px;height:24px;text-align:center;\" bgcolor=\"white\">d</td><td style=\"width:24px;height:24px;text-align:center;\" bgcolor=\"white\">e</td><td style=\"width:24px;height:24px;text-align:center;\" bgcolor=\"white\">f</td><td style=\"width:24px;height:24px;text-align:center;\" bgcolor=\"white\">g</td><td style=\"width:24px;height:24px;text-align:center;\" bgcolor=\"white\">h</td><td style=\"width:24px;height:24px;text-align:center;\" bgcolor=\"white\"> </td></table>"
      ],
      "text/plain": [
       "<IPython.core.display.HTML object>"
      ]
     },
     "execution_count": 42,
     "metadata": {},
     "output_type": "execute_result"
    }
   ],
   "source": [
    "def check_place(rows, row, column):\n",
    "    \"\"\" Проверяет, если board[column][row] под атакой других ферзей \"\"\"\n",
    "    for i in range(row):\n",
    "        if rows[i] == column or \\\n",
    "            rows[i] - i == column - row or \\\n",
    "            rows[i] + i == column + row:\n",
    "            return False\n",
    "    return True\n",
    "\n",
    "total_shown = 0\n",
    "def put_queen(rows=[0]*8, row=0):\n",
    "    if row == 8:\n",
    "        arr = [[0] * 8 for i in range(8)]\n",
    "        for row, column in enumerate(rows):\n",
    "            arr[row][column] = 1\n",
    "        return chessboard(arr)\n",
    "    else:\n",
    "        for column in range(8):\n",
    "            if check_place(rows, row, column):\n",
    "                rows[row] = column\n",
    "                board = put_queen(rows, row + 1)\n",
    "                if board: return board\n",
    "    \n",
    "put_queen()"
   ]
  },
  {
   "cell_type": "code",
   "execution_count": null,
   "metadata": {},
   "outputs": [],
   "source": []
  }
 ],
 "metadata": {
  "kernelspec": {
   "display_name": "Python 3",
   "language": "python",
   "name": "python3"
  },
  "language_info": {
   "codemirror_mode": {
    "name": "ipython",
    "version": 3
   },
   "file_extension": ".py",
   "mimetype": "text/x-python",
   "name": "python",
   "nbconvert_exporter": "python",
   "pygments_lexer": "ipython3",
   "version": "3.8.5"
  }
 },
 "nbformat": 4,
 "nbformat_minor": 4
}
