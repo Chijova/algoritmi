{
 "cells": [
  {
   "cell_type": "markdown",
   "metadata": {},
   "source": [
    "# Лабораторная работа №1\n",
    "## Выполнила студентка группы БСТ1903 Чижова Екатерина Михайловна\n",
    "### Задание №1\n",
    "1. Создать Jupyter Notebook со следующим наименованием: Lab1_Группа_ФИО\n",
    "2. Создать новую ячейку с помощью кнопки\n",
    "3. В созданной ячейке по указанной форме заполнить оглавление файла, после чего создайть еще одну ячейку и написать следующий код: print (\"Hello, World!\")\n",
    "4. С помощью кнопки запустите выполнение всех ячеек.\n",
    "5. После выполнения у вас должна отформатироваться ячейка с оглавлением и должен выполниться “Hello, World!”"
   ]
  },
  {
   "cell_type": "code",
   "execution_count": 1,
   "metadata": {},
   "outputs": [
    {
     "name": "stdout",
     "output_type": "stream",
     "text": [
      "Hello, World!\n"
     ]
    }
   ],
   "source": [
    "print (\"Hello, World!\")"
   ]
  },
  {
   "cell_type": "markdown",
   "metadata": {},
   "source": [
    "### Задание №2\n",
    "Написать генератор случайных матриц(многомерных), который принимает опциональные параметры m, n, min_limit, max_limit, где m и n указывают размер матрицы, а min_lim и max_lim - минимальное и максимальное значение для генерируемого числа . По умолчанию при отсутствии параметров принимать следующие значения:\n",
    "\n",
    "m = 50\n",
    "\n",
    "n = 50\n",
    "\n",
    "min_limit = -250\n",
    "\n",
    "max_limit = 1000 + (номер своего варианта)\n",
    "Мой вариант 20, поэтому max_limit = 1020"
   ]
  },
  {
   "cell_type": "code",
   "execution_count": 4,
   "metadata": {},
   "outputs": [],
   "source": [
    "def random_matrix(m = 50, n = 50, min_limit = -250, max_limit = 1020):\n",
    "    import random\n",
    "    return [[random.randint(min_limit, max_limit) for _ in range(n)] for _ in range(m)]"
   ]
  },
  {
   "cell_type": "code",
   "execution_count": 4,
   "metadata": {},
   "outputs": [
    {
     "name": "stdout",
     "output_type": "stream",
     "text": [
      "[[74, 99, 92, 43, 7], [3, -9, -13, 30, 45], [34, -6, 36, 65, 62], [-4, 38, 63, 13, 82], [5, 42, 99, 5, 10]]\n"
     ]
    }
   ],
   "source": [
    "newMatrix = random_matrix(5, 5, -25, 100)\n",
    "print (newMatrix)"
   ]
  },
  {
   "cell_type": "markdown",
   "metadata": {},
   "source": [
    "### Задание №3\n",
    "Реализовать методы сортировки строк числовой матрицы в соответствии с заданием. Оценить время работы каждого алгоритма сортировки и сравнить его со временем стандартной функции сортировки. Испытания проводить на сгенерированных матрицах.\n",
    "\n",
    "Методы:\n",
    "\n",
    "Выбором\n",
    "Вставкой\n",
    "Обменом\n",
    "Шелла\n",
    "Турнирная\n",
    "Быстрая сортировка\n",
    "Пирамидальная"
   ]
  },
  {
   "cell_type": "code",
   "execution_count": 26,
   "metadata": {},
   "outputs": [],
   "source": [
    "## Сортировка выбором\n",
    "def selection_sort(arr, m):\n",
    "    for g in range (0, m):\n",
    "        for i in range(0, len(arr) - 1):\n",
    "            smallest = arr[g][i]\n",
    "            ind=i\n",
    "            for j in range(i + 1, len(arr)):\n",
    "                if arr[g][j] < arr[g][ind]:\n",
    "                    smallest =arr[g][j] \n",
    "                    arr[g][j]=arr[g][ind]\n",
    "                    arr[g][ind]= smallest\n",
    "    return (arr)"
   ]
  },
  {
   "cell_type": "code",
   "execution_count": 27,
   "metadata": {},
   "outputs": [
    {
     "name": "stdout",
     "output_type": "stream",
     "text": [
      "[[17, 79, 35, -11, 86], [46, 31, 43, 86, 85], [53, -19, 77, 31, -1], [24, 12, 20, -17, 44], [-21, 20, 40, 65, -13]]\n",
      "[[-11, 17, 35, 79, 86], [31, 43, 46, 85, 86], [-19, -1, 31, 53, 77], [-17, 12, 20, 24, 44], [-21, -13, 20, 40, 65]]\n"
     ]
    }
   ],
   "source": [
    "newMatrix = random_matrix(5, 5, -25, 100)\n",
    "print (newMatrix)\n",
    "newArr=selection_sort(newMatrix, 5)\n",
    "print (newArr)"
   ]
  },
  {
   "cell_type": "code",
   "execution_count": 10,
   "metadata": {},
   "outputs": [],
   "source": [
    "## Сортировка вставкой\n",
    "def insertion_sort(arr, m):\n",
    "    for g in range (0, m):\n",
    "         for i in range(1, len(arr)):\n",
    "            key = arr[g][i]\n",
    "            j = i - 1\n",
    "            while (j >= 0 and key < arr[g][j]):\n",
    "                arr[g][j + 1] = arr[g][j]\n",
    "                j = j - 1\n",
    "            arr[g][j + 1] = key\n",
    "    return (arr)  \n",
    "        "
   ]
  },
  {
   "cell_type": "code",
   "execution_count": 11,
   "metadata": {},
   "outputs": [
    {
     "name": "stdout",
     "output_type": "stream",
     "text": [
      "[[55, 87, 75, 80, 90], [32, 70, 6, 23, 96], [85, 33, 88, 84, 24], [82, 58, -10, 42, 16], [-5, 7, 22, 91, 56]]\n",
      "[[55, 75, 80, 87, 90], [6, 23, 32, 70, 96], [24, 33, 84, 85, 88], [-10, 16, 42, 58, 82], [-5, 7, 22, 56, 91]]\n"
     ]
    }
   ],
   "source": [
    "newMatrix = random_matrix(5, 5, -25, 100)\n",
    "print (newMatrix)\n",
    "newArr=insertion_sort(newMatrix, 5)\n",
    "print (newArr)"
   ]
  },
  {
   "cell_type": "code",
   "execution_count": 19,
   "metadata": {},
   "outputs": [],
   "source": [
    "## Сортировка обменом\n",
    "def bubble_sort(arr, m):\n",
    "    for g in range (0, m):\n",
    "        j=len(arr)-1\n",
    "        while (j>=1):\n",
    "            for i in range (0, j):\n",
    "                if arr[g][i]>arr[g][i+1]:\n",
    "                    arr[g][i], arr[g][i+1]=arr[g][i+1], arr[g][i]\n",
    "            j=j-1\n",
    "    return (arr) \n",
    "        "
   ]
  },
  {
   "cell_type": "code",
   "execution_count": 20,
   "metadata": {},
   "outputs": [
    {
     "name": "stdout",
     "output_type": "stream",
     "text": [
      "[[33, -17, 37, 10, 96], [29, -17, 44, 92, -2], [16, 71, 0, 3, 70], [22, -10, -9, 30, 58], [7, 27, -14, 69, 14]]\n",
      "[[-17, 10, 33, 37, 96], [-17, -2, 29, 44, 92], [0, 3, 16, 70, 71], [-10, -9, 22, 30, 58], [-14, 7, 14, 27, 69]]\n"
     ]
    }
   ],
   "source": [
    "newMatrix = random_matrix(5, 5, -25, 100)\n",
    "print (newMatrix)\n",
    "newArr=bubble_sort(newMatrix, 5)\n",
    "print (newArr)"
   ]
  },
  {
   "cell_type": "code",
   "execution_count": 33,
   "metadata": {},
   "outputs": [],
   "source": [
    "## Сортировка Шелла\n",
    "def shell_sort(arr, m):\n",
    "    for g in range (0, m):\n",
    "        step = len(arr) // 2\n",
    "        while step > 0:\n",
    "            for i in range(step, len(arr)):\n",
    "                j = i\n",
    "                delta = j - step\n",
    "                while delta >= 0 and arr[g][delta] > arr[g][j]:\n",
    "                    arr[g][delta], arr[g][j] = arr[g][j], arr[g][delta]\n",
    "                    j = delta\n",
    "                    delta = j - step\n",
    "            step //= 2\n",
    "    return (arr)"
   ]
  },
  {
   "cell_type": "code",
   "execution_count": 34,
   "metadata": {},
   "outputs": [
    {
     "name": "stdout",
     "output_type": "stream",
     "text": [
      "[[97, -9, 61, -10, 28], [14, 66, -11, 59, 83], [9, 53, 93, -2, 15], [4, 34, 75, 12, 53], [17, -23, -15, -22, 35]]\n",
      "[[-10, -9, 28, 61, 97], [-11, 14, 59, 66, 83], [-2, 9, 15, 53, 93], [4, 12, 34, 53, 75], [-23, -22, -15, 17, 35]]\n"
     ]
    }
   ],
   "source": [
    "newMatrix = random_matrix(5, 5, -25, 100)\n",
    "print (newMatrix)\n",
    "newArr=shell_sort(newMatrix, 5)\n",
    "print (newArr)"
   ]
  },
  {
   "cell_type": "code",
   "execution_count": 48,
   "metadata": {},
   "outputs": [],
   "source": [
    "# Турнирная сортировка\n",
    "def tournament_sort_mass(arr, m):\n",
    "    for g in range (0, m):\n",
    "        tournament_sort(arr[g])\n",
    "    return (arr)\n",
    "def tournament_sort(arr):\n",
    "    tree = [None] * 2 * (len(arr) + len(arr) % 2)\n",
    "    index = len(tree) - len(arr) - len(arr) % 2\n",
    "    \n",
    "    for i, v in enumerate(arr):\n",
    "        tree[index + i] = (i, v)\n",
    "    \n",
    "    for j in range(len(arr)):\n",
    "        n = len(arr)\n",
    "        index = len(tree) - len(arr) - len(arr) % 2\n",
    "        while index > -1:\n",
    "            n = (n + 1) // 2\n",
    "            for i in range(n):\n",
    "                i = max(index + i * 2, 1) # на последней итерация index + i * 2 = 0\n",
    "                if tree[i] != None and tree[i + 1] != None:\n",
    "                    if tree[i][1] < tree[i + 1][1]:\n",
    "                        tree[i // 2] = tree[i]\n",
    "                    else:\n",
    "                        tree[i // 2] = tree[i + 1]\n",
    "                else:\n",
    "                    tree[i // 2] = tree[i] if tree[i] != None else tree[i + 1]\n",
    "            index -= n\n",
    "\n",
    "        index, x = tree[0]\n",
    "        arr[j] = x\n",
    "        tree[len(tree) - len(arr) - len(arr) % 2 + index] = None\n",
    "    return (arr)"
   ]
  },
  {
   "cell_type": "code",
   "execution_count": 50,
   "metadata": {},
   "outputs": [
    {
     "name": "stdout",
     "output_type": "stream",
     "text": [
      "[[95, 53, 90, -4, -19], [49, -4, 54, 78, 99], [30, 24, 7, 93, 25], [68, 98, 12, 15, 10], [34, 51, 6, -19, 16]]\n",
      "[[-19, -4, 53, 90, 95], [-4, 49, 54, 78, 99], [7, 24, 25, 30, 93], [10, 12, 15, 68, 98], [-19, 6, 16, 34, 51]]\n"
     ]
    }
   ],
   "source": [
    "newMatrix = random_matrix(5, 5, -25, 100)\n",
    "print (newMatrix)\n",
    "newArr=tournament_sort_mass(newMatrix, 5)\n",
    "print (newArr)"
   ]
  },
  {
   "cell_type": "code",
   "execution_count": 87,
   "metadata": {},
   "outputs": [],
   "source": [
    "# Пирамидальная сортировка\n",
    "\n",
    "# Процедура для преобразования в двоичную кучу поддерева с корневым узлом i, что является индексом в arr[]. n - размер кучи\n",
    "def heapify(arr, n, i, g):\n",
    "    largest = i # Initialize largest as root\n",
    "    l = 2 * i + 1   # left = 2*i + 1\n",
    "    r = 2 * i + 2   # right = 2*i + 2\n",
    "\n",
    "    # Проверяем существует ли левый дочерний элемент больший, чем корень\n",
    "\n",
    "    if l < n and arr[g][i] < arr[g][l]:\n",
    "        largest = l\n",
    "\n",
    "    # Проверяем существует ли правый дочерний элемент больший, чем корень\n",
    "\n",
    "    if r < n and arr[g][largest] < arr[g][r]:\n",
    "        largest = r\n",
    "\n",
    "    # Заменяем корень, если нужно\n",
    "    if largest != i:\n",
    "        arr[g][i], arr[g][largest] = arr[g][largest], arr[g][i] # свап\n",
    "\n",
    "        # Применяем heapify к корню.\n",
    "        heapify(arr, n, largest, g)\n",
    "\n",
    "# Основная функция для сортировки массива заданного размера\n",
    "def heap_sort(arr, m):\n",
    "    n = len(arr)\n",
    "    g=m-1\n",
    "    while g>= 0:\n",
    "            # Построение max-heap.\n",
    "        for i in range(n, -1, -1):\n",
    "            heapify(arr, n, i, g)\n",
    "\n",
    "            # Один за другим извлекаем элементы\n",
    "        for i in range(n-1, 0, -1):\n",
    "            arr[g][i], arr[g][0] = arr[g][0], arr[g][i] # свап \n",
    "            heapify(arr, i, 0, g)\n",
    "        g=g-1\n",
    "    return (arr)"
   ]
  },
  {
   "cell_type": "code",
   "execution_count": 88,
   "metadata": {},
   "outputs": [
    {
     "name": "stdout",
     "output_type": "stream",
     "text": [
      "[[100, 29, 92, 68, 76], [50, -13, 46, 74, 60], [40, 7, 50, -13, -11], [-7, -22, 43, 20, -9], [70, -3, 17, 66, 85]]\n",
      "[[29, 68, 76, 92, 100], [-13, 46, 50, 60, 74], [-13, -11, 7, 40, 50], [-22, -9, -7, 20, 43], [-3, 17, 66, 70, 85]]\n"
     ]
    }
   ],
   "source": [
    "newMatrix = random_matrix(5, 5, -25, 100)\n",
    "print (newMatrix)\n",
    "newArr=heap_sort(newMatrix,5)\n",
    "print (newArr)"
   ]
  },
  {
   "cell_type": "code",
   "execution_count": 44,
   "metadata": {},
   "outputs": [],
   "source": [
    "# Быстрая сортировка\n",
    "def quick_sort_mass(arr, m):\n",
    "    for g in range (0, m):\n",
    "        quick_sort(arr[g])\n",
    "    return (arr)\n",
    "def quick_sort(arr, fst=0, lst=None):\n",
    "    if lst == None:\n",
    "        lst = len(arr) - 1\n",
    "        \n",
    "    if fst >= lst:\n",
    "        return\n",
    " \n",
    "    i, j = fst, lst\n",
    "    pivot = arr[(lst + fst) // 2]\n",
    " \n",
    "    while i <= j:\n",
    "        while arr[i] < pivot: i += 1\n",
    "        while arr[j] > pivot: j -= 1\n",
    "        if i <= j:\n",
    "            arr[i], arr[j] = arr[j], arr[i]\n",
    "            i, j = i + 1, j - 1\n",
    "            \n",
    "    quick_sort(arr, fst, j)\n",
    "    quick_sort(arr, i, lst)\n",
    "    return (arr)"
   ]
  },
  {
   "cell_type": "code",
   "execution_count": 47,
   "metadata": {},
   "outputs": [
    {
     "name": "stdout",
     "output_type": "stream",
     "text": [
      "[[49, 49, 20, -24, 49], [24, -6, 14, 79, -16], [-10, 64, 32, -20, 45], [2, -8, 23, 72, 81], [2, 70, 29, 73, 92]]\n",
      "[[-24, 20, 49, 49, 49], [-16, -6, 14, 24, 79], [-20, -10, 32, 45, 64], [-8, 2, 23, 72, 81], [2, 29, 70, 73, 92]]\n"
     ]
    }
   ],
   "source": [
    "newMatrix = random_matrix(5, 5, -25, 100)\n",
    "print (newMatrix)\n",
    "newArr=quick_sort_mass(newMatrix, 5)\n",
    "print (newArr)"
   ]
  },
  {
   "cell_type": "code",
   "execution_count": null,
   "metadata": {},
   "outputs": [],
   "source": []
  }
 ],
 "metadata": {
  "kernelspec": {
   "display_name": "Python 3",
   "language": "python",
   "name": "python3"
  },
  "language_info": {
   "codemirror_mode": {
    "name": "ipython",
    "version": 3
   },
   "file_extension": ".py",
   "mimetype": "text/x-python",
   "name": "python",
   "nbconvert_exporter": "python",
   "pygments_lexer": "ipython3",
   "version": "3.8.5"
  }
 },
 "nbformat": 4,
 "nbformat_minor": 4
}
