{
 "cells": [
  {
   "cell_type": "markdown",
   "metadata": {},
   "source": [
    "# Контрольные задачи по дисциплине СиАОД №1\n",
    "## Выполнила студентка группы БСТ1903 Чижова Екатерина Михайловна\n",
    "### Задача 1\n",
    "#### «Треугольник с максимальным периметром»\n",
    "Массив A состоит из целых положительных чисел - длин отрезков. Составьте из трех отрезков такой треугольник, чтобы его периметр был максимально возможным. Если невозможно\n",
    "составить треугольник с положительной площадью - функция возвращает 0."
   ]
  },
  {
   "cell_type": "code",
   "execution_count": 25,
   "metadata": {},
   "outputs": [
    {
     "name": "stdout",
     "output_type": "stream",
     "text": [
      "1 2 1\n",
      "0\n"
     ]
    }
   ],
   "source": [
    "a = [int(n) for n in input().split()]\n",
    "a.sort()\n",
    "i=len(a)-1\n",
    "while (i>1) and (a[i-1]+a[i-2]<=a[i]):\n",
    "    i=i-1\n",
    "if (a[i]+a[i-1]>a[i-2]):\n",
    "    print (a[i]+a[i-1]+a[i-2])\n",
    "else:\n",
    "    print (0)"
   ]
  },
  {
   "cell_type": "markdown",
   "metadata": {},
   "source": [
    "### Задача 2\n",
    "#### «Максимальное число»\n",
    "Дан массив неотрицательных целых чисел nums. Расположите их в таком порядке, чтобы\n",
    "вместе они образовали максимально возможное число."
   ]
  },
  {
   "cell_type": "code",
   "execution_count": 66,
   "metadata": {},
   "outputs": [
    {
     "name": "stdout",
     "output_type": "stream",
     "text": [
      "3 30 34 5 9\n",
      "3\n",
      "0\n",
      "3\n",
      "4\n",
      "9534330\n"
     ]
    }
   ],
   "source": [
    "a = [int(n) for n in input().split()]\n",
    "b=[]\n",
    "for i in range(0, len(a)):\n",
    "    b.append(str(a[i]))\n",
    "c=sorted(b)\n",
    "for i in range(0, len(a)-1):\n",
    "    r=0\n",
    "    while (r<len(c[i])) and (r<len(c[i+1])) and (c[i][r]) ==(c[i+1][r]) :\n",
    "        r=r+1\n",
    "    r=r-1\n",
    "    if (r==len(c[i])-1) and (r!=len(c[i+1])-1):\n",
    "        print (c[i][r])\n",
    "        print (c[i+1][r+1])\n",
    "        if (c[i][r])>(c[i+1][r+1]):\n",
    "            str1=c[i]\n",
    "            str2=c[i+1]\n",
    "            c[i]=str2\n",
    "            c[i+1]=str1\n",
    "    else:\n",
    "        if (c[i][r+1])>(c[i+1][r]):\n",
    "            str1=c[i]\n",
    "            str2=c[i+1]\n",
    "            c[i]=str2\n",
    "            c[i+1]=str1\n",
    "        \n",
    "otvet=\"\"\n",
    "for i in range(len(b)-1, -1, -1):\n",
    "    otvet=otvet+c[i]\n",
    "print (otvet)"
   ]
  },
  {
   "cell_type": "markdown",
   "metadata": {},
   "source": [
    "### Задача 3\n",
    "####  «Сортировка диагоналей в матрице»\n",
    "Дана матрица mat размером m * n, значения - целочисленные. Напишите функцию, сортирующую каждую диагональ матрицы по возрастанию и возвращающую получившуюся матрицу"
   ]
  },
  {
   "cell_type": "code",
   "execution_count": 67,
   "metadata": {},
   "outputs": [],
   "source": [
    "def random_matrix(m = 50, n = 50, min_limit = -250, max_limit = 1020):\n",
    "    import random\n",
    "    return [[random.randint(min_limit, max_limit) for _ in range(n)] for _ in range(m)]"
   ]
  },
  {
   "cell_type": "code",
   "execution_count": 78,
   "metadata": {},
   "outputs": [],
   "source": [
    "def insertion_sort(arr, m):\n",
    "    for f in range (0, m-1):\n",
    "        i=1        \n",
    "        while (i<len(arr)):\n",
    "            g=f          \n",
    "            key = arr[g+1][i]           \n",
    "            j = i - 1\n",
    "            i=i+1\n",
    "            while (j >= 0 and key < arr[g][j] and g>=0):\n",
    "                arr[g+1][j + 1] = arr[g][j]\n",
    "                j = j - 1\n",
    "                g=g-1\n",
    "            arr[g+1][j + 1] = key\n",
    "    return (arr)"
   ]
  },
  {
   "cell_type": "code",
   "execution_count": 79,
   "metadata": {},
   "outputs": [
    {
     "name": "stdout",
     "output_type": "stream",
     "text": [
      "[[98, 66, -7, 97, 60, 87], [83, -2, 99, -23, -21, 72], [4, -7, 76, 62, -13, 6], [63, 65, 24, 9, -3, 25], [12, -2, 80, -15, 19, 37], [35, 45, 74, -1, 10, 67]]\n",
      "[[-2, -3, -23, -21, 60, 87], [-15, 9, 37, -13, 6, 72], [-1, -7, 19, 62, -7, 97], [-2, 4, 10, 67, 66, 25], [12, 63, 65, 24, 76, 99], [35, 45, 74, 80, 83, 98]]\n"
     ]
    }
   ],
   "source": [
    "newMatrix = random_matrix(6, 6, -25, 100)\n",
    "print (newMatrix)\n",
    "newArr=insertion_sort(newMatrix, 6)\n",
    "print (newArr)"
   ]
  },
  {
   "cell_type": "code",
   "execution_count": null,
   "metadata": {},
   "outputs": [],
   "source": []
  }
 ],
 "metadata": {
  "kernelspec": {
   "display_name": "Python 3",
   "language": "python",
   "name": "python3"
  },
  "language_info": {
   "codemirror_mode": {
    "name": "ipython",
    "version": 3
   },
   "file_extension": ".py",
   "mimetype": "text/x-python",
   "name": "python",
   "nbconvert_exporter": "python",
   "pygments_lexer": "ipython3",
   "version": "3.8.5"
  }
 },
 "nbformat": 4,
 "nbformat_minor": 4
}
