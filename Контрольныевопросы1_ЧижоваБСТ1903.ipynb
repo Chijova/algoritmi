{
 "cells": [
  {
   "cell_type": "markdown",
   "metadata": {},
   "source": [
    "# Контрольные задачи по дисциплине СиАОД №1\n",
    "## Выполнила студентка группы БСТ1903 Чижова Екатерина Михайловна\n",
    "### Задача 1\n",
    "#### «Треугольник с максимальным периметром»\n",
    "Массив A состоит из целых положительных чисел - длин отрезков. Составьте из трех отрезков такой треугольник, чтобы его периметр был максимально возможным. Если невозможно\n",
    "составить треугольник с положительной площадью - функция возвращает 0."
   ]
  },
  {
   "cell_type": "code",
   "execution_count": 25,
   "metadata": {},
   "outputs": [
    {
     "name": "stdout",
     "output_type": "stream",
     "text": [
      "1 2 1\n",
      "0\n"
     ]
    }
   ],
   "source": [
    "a = [int(n) for n in input().split()]\n",
    "a.sort()\n",
    "i=len(a)-1\n",
    "while (i>1) and (a[i-1]+a[i-2]<=a[i]):\n",
    "    i=i-1\n",
    "if (a[i]+a[i-1]>a[i-2]):\n",
    "    print (a[i]+a[i-1]+a[i-2])\n",
    "else:\n",
    "    print (0)"
   ]
  },
  {
   "cell_type": "markdown",
   "metadata": {},
   "source": [
    "### Задача 2\n",
    "#### «Максимальное число»\n",
    "Дан массив неотрицательных целых чисел nums. Расположите их в таком порядке, чтобы\n",
    "вместе они образовали максимально возможное число."
   ]
  },
  {
   "cell_type": "code",
   "execution_count": 30,
   "metadata": {},
   "outputs": [
    {
     "name": "stdout",
     "output_type": "stream",
     "text": [
      "3432 34323\n",
      "343234323\n"
     ]
    }
   ],
   "source": [
    "a = [int(n) for n in input().split()]\n",
    "b=[]\n",
    "for i in range(0, len(a)):\n",
    "    b.append(str(a[i]))\n",
    "c=sorted(b)\n",
    "for i in range(0, len(a)-1):\n",
    "    r=0\n",
    "    while (r<len(c[i])) and (r<len(c[i+1])) and (c[i][r]) ==(c[i+1][r]) :\n",
    "        r=r+1\n",
    "    r=r-1\n",
    "    if (r==len(c[i])-1) and (r!=len(c[i+1])-1):\n",
    "        if (c[i][0])>(c[i+1][r+1]):\n",
    "            str1=c[i]\n",
    "            str2=c[i+1]\n",
    "            c[i]=str2\n",
    "            c[i+1]=str1\n",
    "        else:\n",
    "            if (c[i][0])==(c[i+1][r+1]):\n",
    "                k=1\n",
    "                while (c[i][0])==(c[i][k]):\n",
    "                    k=k+1\n",
    "                if (c[i][0])<(c[i][k]):\n",
    "                    str1=c[i]\n",
    "                    str2=c[i+1]\n",
    "                    c[i]=str2\n",
    "                    c[i+1]=str1\n",
    "    else:\n",
    "        if (c[i][r+1])>(c[i+1][0]):\n",
    "            str1=c[i]\n",
    "            str2=c[i+1]\n",
    "            c[i]=str2\n",
    "            c[i+1]=str1\n",
    "        else:\n",
    "             if (c[i][r+1])==(c[i+1][0]):\n",
    "                k=1\n",
    "                while (c[i+1][0])==(c[i][k]):\n",
    "                    k=k+1\n",
    "                if (c[i+1][0])<(c[i+1][k]):\n",
    "                    str1=c[i]\n",
    "                    str2=c[i+1]\n",
    "                    c[i]=str2\n",
    "                    c[i+1]=str1          \n",
    "\n",
    "        \n",
    "otvet=\"\"\n",
    "for i in range(len(b)-1, -1, -1):\n",
    "    otvet=otvet+c[i]\n",
    "print (otvet)"
   ]
  },
  {
   "cell_type": "markdown",
   "metadata": {},
   "source": [
    "### Задача 3\n",
    "####  «Сортировка диагоналей в матрице»\n",
    "Дана матрица mat размером m * n, значения - целочисленные. Напишите функцию, сортирующую каждую диагональ матрицы по возрастанию и возвращающую получившуюся матрицу"
   ]
  },
  {
   "cell_type": "code",
   "execution_count": 67,
   "metadata": {},
   "outputs": [],
   "source": [
    "def random_matrix(m = 50, n = 50, min_limit = -250, max_limit = 1020):\n",
    "    import random\n",
    "    return [[random.randint(min_limit, max_limit) for _ in range(n)] for _ in range(m)]"
   ]
  },
  {
   "cell_type": "code",
   "execution_count": 16,
   "metadata": {},
   "outputs": [],
   "source": [
    "def insertion_sort(arr):\n",
    "    for f in range (0, len(arr)-1):\n",
    "        i=1 \n",
    "        while (i<len(arr[0])):\n",
    "            g=f          \n",
    "            key = arr[g+1][i]           \n",
    "            j = i - 1\n",
    "            i=i+1\n",
    "            while (j >= 0 and key < arr[g][j] and g>=0):\n",
    "                arr[g+1][j + 1] = arr[g][j]\n",
    "                j = j - 1\n",
    "                g=g-1\n",
    "            arr[g+1][j + 1] = key\n",
    "    return (arr)"
   ]
  },
  {
   "cell_type": "code",
   "execution_count": 17,
   "metadata": {},
   "outputs": [
    {
     "name": "stdout",
     "output_type": "stream",
     "text": [
      "[[11, 25, 66, 1, 69, 7], [23, 55, 17, 45, 15, 52], [75, 31, 36, 44, 58, 8], [22, 27, 33, 25, 68, 4], [84, 28, 14, 11, 5, 50]]\n",
      "[[5, 17, 4, 1, 52, 7], [11, 11, 25, 45, 8, 69], [14, 23, 25, 44, 58, 15], [22, 27, 31, 36, 50, 66], [84, 28, 75, 33, 55, 68]]\n"
     ]
    }
   ],
   "source": [
    "newMatrix = [[11, 25, 66, 1, 69, 7], [23, 55, 17, 45, 15, 52], [75, 31, 36,\n",
    "44, 58, 8], [22, 27, 33, 25, 68, 4], [84, 28, 14, 11, 5, 50]]\n",
    "print (newMatrix)\n",
    "newArr=insertion_sort(newMatrix)\n",
    "print (newArr)"
   ]
  },
  {
   "cell_type": "code",
   "execution_count": null,
   "metadata": {},
   "outputs": [],
   "source": []
  }
 ],
 "metadata": {
  "kernelspec": {
   "display_name": "Python 3",
   "language": "python",
   "name": "python3"
  },
  "language_info": {
   "codemirror_mode": {
    "name": "ipython",
    "version": 3
   },
   "file_extension": ".py",
   "mimetype": "text/x-python",
   "name": "python",
   "nbconvert_exporter": "python",
   "pygments_lexer": "ipython3",
   "version": "3.8.5"
  }
 },
 "nbformat": 4,
 "nbformat_minor": 4
}
